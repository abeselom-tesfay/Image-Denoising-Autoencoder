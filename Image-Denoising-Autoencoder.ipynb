{
 "cells": [
  {
   "cell_type": "code",
   "execution_count": null,
   "id": "c2ba3907-e3bf-4851-ae1a-6a0f17067584",
   "metadata": {},
   "outputs": [],
   "source": [
    "# Import libraries"
   ]
  },
  {
   "cell_type": "code",
   "execution_count": null,
   "id": "6e0e73a9-c6ba-433d-bd01-01b36111f85a",
   "metadata": {},
   "outputs": [],
   "source": [
    "import numpy as np\n",
    "import matplotlib.pyplot as plt\n",
    "import os\n",
    "from tensorflow.keras.datasets import cifar10\n",
    "from tensorflow.keras.models import Model, load_model\n",
    "from tensorflow.keras.layers import Input, Conv2D, MaxPooling2D, UpSampling2D, BatchNormalization, Add\n",
    "from tensorflow.keras.optimizers import Adam\n",
    "from tensorflow.keras.callbacks import EarlyStopping, ModelCheckpoint\n",
    "from skimage.util import random_noise\n",
    "from skimage.metrics import peak_signal_noise_ratio as psnr, structural_similarity as ssim\n",
    "from tensorflow.keras import backend as K"
   ]
  },
  {
   "cell_type": "code",
   "execution_count": null,
   "id": "7b82f8fd-f467-4609-bf72-2692deba105e",
   "metadata": {},
   "outputs": [],
   "source": [
    "# Directories"
   ]
  },
  {
   "cell_type": "code",
   "execution_count": null,
   "id": "7005335e-dbc1-4590-a7db-1cdfced0fd30",
   "metadata": {},
   "outputs": [],
   "source": [
    "os.makedirs(\"models\", exist_ok=True)\n",
    "os.makedirs(\"results\", exist_ok=True)"
   ]
  },
  {
   "cell_type": "code",
   "execution_count": null,
   "id": "c89e77da-0051-4678-a7af-ca875105ac26",
   "metadata": {},
   "outputs": [],
   "source": [
    "(x_train, _), (x_test, _) = cifar10.load_data()\n",
    "x_train = x_train.astype('float32') / 255.\n",
    "x_test = x_test.astype('float32') / 255."
   ]
  },
  {
   "cell_type": "code",
   "execution_count": null,
   "id": "11b5e40e-2c71-4bcb-82f6-1ece9d5bc199",
   "metadata": {},
   "outputs": [],
   "source": [
    "# Visualize sample clean images"
   ]
  },
  {
   "cell_type": "code",
   "execution_count": null,
   "id": "87da61e8-a303-448d-afb2-9d74f97f348f",
   "metadata": {},
   "outputs": [],
   "source": [
    "plt.figure(figsize=(10,2))\n",
    "for i in range(10):\n",
    "    plt.subplot(1,10,i+1)\n",
    "    plt.imshow(x_train[i])\n",
    "    plt.axis('off')\n",
    "plt.suptitle(\"Sample CIFAR-10 Images (Clean)\")\n",
    "plt.show()"
   ]
  },
  {
   "cell_type": "code",
   "execution_count": null,
   "id": "e6de4fa4-bfd4-4b0c-b128-1e9fd093e139",
   "metadata": {},
   "outputs": [],
   "source": [
    "# Add Noise"
   ]
  },
  {
   "cell_type": "code",
   "execution_count": null,
   "id": "ee78bbd0-93d8-4c6e-8a10-7d9d3f2ec357",
   "metadata": {},
   "outputs": [],
   "source": [
    "def add_noise(data, mode='gaussian', var=0.01, amount=0.02):\n",
    "    if mode == 'gaussian':\n",
    "        noisy = random_noise(data, mode='gaussian', var=var)\n",
    "    elif mode == 's&p':\n",
    "        noisy = random_noise(data, mode='s&p', amount=amount)\n",
    "    else:\n",
    "        noisy = data\n",
    "    noisy = np.clip(noisy, 0., 1.)\n",
    "    return noisy\n",
    "\n",
    "x_train_noisy = add_noise(x_train, 'gaussian', 0.01)\n",
    "x_test_noisy = add_noise(x_test, 'gaussian', 0.01)"
   ]
  },
  {
   "cell_type": "code",
   "execution_count": null,
   "id": "56e98bb6-3ee3-4597-bd4f-4e221970c757",
   "metadata": {},
   "outputs": [],
   "source": [
    "# Visualize noisy vs clean"
   ]
  },
  {
   "cell_type": "code",
   "execution_count": null,
   "id": "da59bf13-80ff-4c3a-96d0-f940676900f9",
   "metadata": {},
   "outputs": [],
   "source": [
    "plt.figure(figsize=(20,4))\n",
    "for i in range(10):\n",
    "    # Noisy\n",
    "    ax = plt.subplot(2,10,i+1)\n",
    "    plt.imshow(x_train_noisy[i])\n",
    "    plt.axis('off')\n",
    "    if i==0: plt.ylabel(\"Noisy\")\n",
    "    # Original\n",
    "    ax = plt.subplot(2,10,i+11)\n",
    "    plt.imshow(x_train[i])\n",
    "    plt.axis('off')\n",
    "    if i==0: plt.ylabel(\"Clean\")\n",
    "plt.show()"
   ]
  },
  {
   "cell_type": "code",
   "execution_count": null,
   "id": "0f53aaf6-1a0e-46ca-8670-8d72544710cf",
   "metadata": {},
   "outputs": [],
   "source": [
    "# Autoecoder"
   ]
  },
  {
   "cell_type": "code",
   "execution_count": null,
   "id": "35d18587-a8bc-4294-a749-56e381308cc5",
   "metadata": {},
   "outputs": [],
   "source": [
    "def residual_block(x, filters):\n",
    "    conv = Conv2D(filters, (3,3), padding='same', activation='relu')(x)\n",
    "    conv = BatchNormalization()(conv)\n",
    "    conv = Conv2D(filters, (3,3), padding='same', activation='relu')(conv)\n",
    "    conv = BatchNormalization()(conv)\n",
    "    out = Add()([x, conv])\n",
    "    return out\n",
    "\n",
    "input_img = Input(shape=(32,32,3))"
   ]
  },
  {
   "cell_type": "code",
   "execution_count": null,
   "id": "09ddf7cb-2ef7-49f7-9ba6-7b2644440b0d",
   "metadata": {},
   "outputs": [],
   "source": [
    "# Encoder"
   ]
  },
  {
   "cell_type": "code",
   "execution_count": null,
   "id": "d6e4a24c-6d73-4112-a702-ea88885eb304",
   "metadata": {},
   "outputs": [],
   "source": [
    "x = Conv2D(64, (3,3), activation='relu', padding='same')(input_img)\n",
    "x = BatchNormalization()(x)\n",
    "x = MaxPooling2D((2,2), padding='same')(x)\n",
    "x = residual_block(x, 64)\n",
    "x = Conv2D(128, (3,3), activation='relu', padding='same')(x)\n",
    "x = BatchNormalization()(x)\n",
    "encoded = MaxPooling2D((2,2), padding='same')(x)"
   ]
  },
  {
   "cell_type": "code",
   "execution_count": null,
   "id": "da6b1ce0-563d-4032-81c8-08d30dcd2131",
   "metadata": {},
   "outputs": [],
   "source": [
    "# Decoder"
   ]
  },
  {
   "cell_type": "code",
   "execution_count": null,
   "id": "1ad1fb77-080a-4750-bdb0-92d4b2056647",
   "metadata": {},
   "outputs": [],
   "source": [
    "x = Conv2D(128, (3,3), activation='relu', padding='same')(encoded)\n",
    "x = BatchNormalization()(x)\n",
    "x = UpSampling2D((2,2))(x)\n",
    "x = residual_block(x, 128)\n",
    "x = Conv2D(64, (3,3), activation='relu', padding='same')(x)\n",
    "x = BatchNormalization()(x)\n",
    "x = UpSampling2D((2,2))(x)\n",
    "decoded = Conv2D(3, (3,3), activation='sigmoid', padding='same')(x)"
   ]
  },
  {
   "cell_type": "code",
   "execution_count": null,
   "id": "d7ac23e4-7a1d-4665-b6e0-2510d4750026",
   "metadata": {},
   "outputs": [],
   "source": [
    "autoencoder = Model(input_img, decoded)\n",
    "autoencoder.compile(optimizer=Adam(0.001), loss='mse')\n",
    "autoencoder.summary()"
   ]
  }
 ],
 "metadata": {
  "kernelspec": {
   "display_name": "Python [conda env:base] *",
   "language": "python",
   "name": "conda-base-py"
  },
  "language_info": {
   "codemirror_mode": {
    "name": "ipython",
    "version": 3
   },
   "file_extension": ".py",
   "mimetype": "text/x-python",
   "name": "python",
   "nbconvert_exporter": "python",
   "pygments_lexer": "ipython3",
   "version": "3.12.7"
  }
 },
 "nbformat": 4,
 "nbformat_minor": 5
}
