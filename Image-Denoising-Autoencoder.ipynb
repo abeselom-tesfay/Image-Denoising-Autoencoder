{
 "cells": [
  {
   "cell_type": "code",
   "execution_count": null,
   "id": "c2ba3907-e3bf-4851-ae1a-6a0f17067584",
   "metadata": {},
   "outputs": [],
   "source": [
    "# Import libraries"
   ]
  },
  {
   "cell_type": "code",
   "execution_count": null,
   "id": "6e0e73a9-c6ba-433d-bd01-01b36111f85a",
   "metadata": {},
   "outputs": [],
   "source": [
    "import numpy as np\n",
    "import matplotlib.pyplot as plt\n",
    "import os\n",
    "from tensorflow.keras.datasets import cifar10\n",
    "from tensorflow.keras.models import Model, load_model\n",
    "from tensorflow.keras.layers import Input, Conv2D, MaxPooling2D, UpSampling2D, BatchNormalization, Add\n",
    "from tensorflow.keras.optimizers import Adam\n",
    "from tensorflow.keras.callbacks import EarlyStopping, ModelCheckpoint\n",
    "from skimage.util import random_noise\n",
    "from skimage.metrics import peak_signal_noise_ratio as psnr, structural_similarity as ssim\n",
    "from tensorflow.keras import backend as K"
   ]
  },
  {
   "cell_type": "code",
   "execution_count": null,
   "id": "7b82f8fd-f467-4609-bf72-2692deba105e",
   "metadata": {},
   "outputs": [],
   "source": [
    "# Directories"
   ]
  },
  {
   "cell_type": "code",
   "execution_count": null,
   "id": "7005335e-dbc1-4590-a7db-1cdfced0fd30",
   "metadata": {},
   "outputs": [],
   "source": [
    "os.makedirs(\"models\", exist_ok=True)\n",
    "os.makedirs(\"results\", exist_ok=True)"
   ]
  },
  {
   "cell_type": "code",
   "execution_count": null,
   "id": "c89e77da-0051-4678-a7af-ca875105ac26",
   "metadata": {},
   "outputs": [],
   "source": [
    "(x_train, _), (x_test, _) = cifar10.load_data()\n",
    "x_train = x_train.astype('float32') / 255.\n",
    "x_test = x_test.astype('float32') / 255."
   ]
  },
  {
   "cell_type": "code",
   "execution_count": null,
   "id": "11b5e40e-2c71-4bcb-82f6-1ece9d5bc199",
   "metadata": {},
   "outputs": [],
   "source": [
    "# Visualize sample clean images"
   ]
  },
  {
   "cell_type": "code",
   "execution_count": null,
   "id": "87da61e8-a303-448d-afb2-9d74f97f348f",
   "metadata": {},
   "outputs": [],
   "source": [
    "plt.figure(figsize=(10,2))\n",
    "for i in range(10):\n",
    "    plt.subplot(1,10,i+1)\n",
    "    plt.imshow(x_train[i])\n",
    "    plt.axis('off')\n",
    "plt.suptitle(\"Sample CIFAR-10 Images (Clean)\")\n",
    "plt.show()"
   ]
  },
  {
   "cell_type": "code",
   "execution_count": null,
   "id": "e6de4fa4-bfd4-4b0c-b128-1e9fd093e139",
   "metadata": {},
   "outputs": [],
   "source": [
    "# Add Noise"
   ]
  },
  {
   "cell_type": "code",
   "execution_count": null,
   "id": "ee78bbd0-93d8-4c6e-8a10-7d9d3f2ec357",
   "metadata": {},
   "outputs": [],
   "source": [
    "def add_noise(data, mode='gaussian', var=0.01, amount=0.02):\n",
    "    if mode == 'gaussian':\n",
    "        noisy = random_noise(data, mode='gaussian', var=var)\n",
    "    elif mode == 's&p':\n",
    "        noisy = random_noise(data, mode='s&p', amount=amount)\n",
    "    else:\n",
    "        noisy = data\n",
    "    noisy = np.clip(noisy, 0., 1.)\n",
    "    return noisy\n",
    "\n",
    "x_train_noisy = add_noise(x_train, 'gaussian', 0.01)\n",
    "x_test_noisy = add_noise(x_test, 'gaussian', 0.01)"
   ]
  },
  {
   "cell_type": "code",
   "execution_count": null,
   "id": "56e98bb6-3ee3-4597-bd4f-4e221970c757",
   "metadata": {},
   "outputs": [],
   "source": [
    "# Visualize noisy vs clean"
   ]
  },
  {
   "cell_type": "code",
   "execution_count": null,
   "id": "da59bf13-80ff-4c3a-96d0-f940676900f9",
   "metadata": {},
   "outputs": [],
   "source": [
    "plt.figure(figsize=(20,4))\n",
    "for i in range(10):\n",
    "    # Noisy\n",
    "    ax = plt.subplot(2,10,i+1)\n",
    "    plt.imshow(x_train_noisy[i])\n",
    "    plt.axis('off')\n",
    "    if i==0: plt.ylabel(\"Noisy\")\n",
    "    # Original\n",
    "    ax = plt.subplot(2,10,i+11)\n",
    "    plt.imshow(x_train[i])\n",
    "    plt.axis('off')\n",
    "    if i==0: plt.ylabel(\"Clean\")\n",
    "plt.show()"
   ]
  },
  {
   "cell_type": "code",
   "execution_count": null,
   "id": "0f53aaf6-1a0e-46ca-8670-8d72544710cf",
   "metadata": {},
   "outputs": [],
   "source": [
    "# Autoecoder"
   ]
  },
  {
   "cell_type": "code",
   "execution_count": null,
   "id": "35d18587-a8bc-4294-a749-56e381308cc5",
   "metadata": {},
   "outputs": [],
   "source": [
    "def residual_block(x, filters):\n",
    "    conv = Conv2D(filters, (3,3), padding='same', activation='relu')(x)\n",
    "    conv = BatchNormalization()(conv)\n",
    "    conv = Conv2D(filters, (3,3), padding='same', activation='relu')(conv)\n",
    "    conv = BatchNormalization()(conv)\n",
    "    out = Add()([x, conv])\n",
    "    return out\n",
    "\n",
    "input_img = Input(shape=(32,32,3))"
   ]
  },
  {
   "cell_type": "code",
   "execution_count": null,
   "id": "09ddf7cb-2ef7-49f7-9ba6-7b2644440b0d",
   "metadata": {},
   "outputs": [],
   "source": [
    "# Encoder"
   ]
  },
  {
   "cell_type": "code",
   "execution_count": null,
   "id": "d6e4a24c-6d73-4112-a702-ea88885eb304",
   "metadata": {},
   "outputs": [],
   "source": [
    "x = Conv2D(64, (3,3), activation='relu', padding='same')(input_img)\n",
    "x = BatchNormalization()(x)\n",
    "x = MaxPooling2D((2,2), padding='same')(x)\n",
    "x = residual_block(x, 64)\n",
    "x = Conv2D(128, (3,3), activation='relu', padding='same')(x)\n",
    "x = BatchNormalization()(x)\n",
    "encoded = MaxPooling2D((2,2), padding='same')(x)"
   ]
  },
  {
   "cell_type": "code",
   "execution_count": null,
   "id": "da6b1ce0-563d-4032-81c8-08d30dcd2131",
   "metadata": {},
   "outputs": [],
   "source": [
    "# Decoder"
   ]
  },
  {
   "cell_type": "code",
   "execution_count": null,
   "id": "1ad1fb77-080a-4750-bdb0-92d4b2056647",
   "metadata": {},
   "outputs": [],
   "source": [
    "x = Conv2D(128, (3,3), activation='relu', padding='same')(encoded)\n",
    "x = BatchNormalization()(x)\n",
    "x = UpSampling2D((2,2))(x)\n",
    "x = residual_block(x, 128)\n",
    "x = Conv2D(64, (3,3), activation='relu', padding='same')(x)\n",
    "x = BatchNormalization()(x)\n",
    "x = UpSampling2D((2,2))(x)\n",
    "decoded = Conv2D(3, (3,3), activation='sigmoid', padding='same')(x)"
   ]
  },
  {
   "cell_type": "code",
   "execution_count": null,
   "id": "d7ac23e4-7a1d-4665-b6e0-2510d4750026",
   "metadata": {},
   "outputs": [],
   "source": [
    "autoencoder = Model(input_img, decoded)\n",
    "autoencoder.compile(optimizer=Adam(0.001), loss='mse')\n",
    "autoencoder.summary()"
   ]
  },
  {
   "cell_type": "code",
   "execution_count": null,
   "id": "6246c8c0-301b-48a5-96e8-3757634c8b93",
   "metadata": {},
   "outputs": [],
   "source": [
    "#Training"
   ]
  },
  {
   "cell_type": "code",
   "execution_count": null,
   "id": "de9ed9a9-cfb4-4f26-a43f-645b2b02bfc6",
   "metadata": {},
   "outputs": [],
   "source": [
    "checkpoint = ModelCheckpoint(\"models/denoiser.keras\", save_best_only=True)\n",
    "early_stop = EarlyStopping(patience=10, restore_best_weights=True)\n",
    "\n",
    "history = autoencoder.fit(\n",
    "    x_train_noisy, x_train,\n",
    "    epochs=100,\n",
    "    batch_size=128,\n",
    "    shuffle=True,\n",
    "    validation_data=(x_test_noisy, x_test),\n",
    "    callbacks=[checkpoint, early_stop]\n",
    ")"
   ]
  },
  {
   "cell_type": "code",
   "execution_count": null,
   "id": "688cde16-9842-424c-8383-92118759fb73",
   "metadata": {},
   "outputs": [],
   "source": [
    "# Training curves"
   ]
  },
  {
   "cell_type": "code",
   "execution_count": null,
   "id": "d9ff4947-342e-4377-832e-f98fe645774b",
   "metadata": {},
   "outputs": [],
   "source": [
    "plt.figure(figsize=(8,4))\n",
    "plt.plot(history.history['loss'], label='Train Loss')\n",
    "plt.plot(history.history['val_loss'], label='Val Loss')\n",
    "plt.title(\"Training & Validation Loss\")\n",
    "plt.xlabel(\"Epoch\")\n",
    "plt.ylabel(\"MSE Loss\")\n",
    "plt.legend()\n",
    "plt.show()"
   ]
  },
  {
   "cell_type": "code",
   "execution_count": null,
   "id": "18b8ecf7-deb7-4402-8c43-cad65b2b615a",
   "metadata": {},
   "outputs": [],
   "source": [
    "# Evaluate Denoising"
   ]
  },
  {
   "cell_type": "code",
   "execution_count": null,
   "id": "7afdbb8c-796e-40a6-9d45-4770fc677d47",
   "metadata": {},
   "outputs": [],
   "source": [
    "preds = autoencoder.predict(x_test_noisy)"
   ]
  },
  {
   "cell_type": "code",
   "execution_count": null,
   "id": "cbf761b5-0f04-49b7-af53-d6273f9659e6",
   "metadata": {},
   "outputs": [],
   "source": [
    "# PSNR & SSIM"
   ]
  },
  {
   "cell_type": "code",
   "execution_count": null,
   "id": "9bbb9dfe-b790-4b3e-bad6-91bc4518ec38",
   "metadata": {},
   "outputs": [],
   "source": [
    "psnr_values = [psnr(x_test[i], preds[i]) for i in range(len(x_test))]\n",
    "ssim_values = [ssim(x_test[i], preds[i], multichannel=True) for i in range(len(x_test))]\n",
    "print(\"Average PSNR:\", np.mean(psnr_values))\n",
    "print(\"Average SSIM:\", np.mean(ssim_values))"
   ]
  },
  {
   "cell_type": "code",
   "execution_count": null,
   "id": "5ec7b6d6-69d2-4ba5-bf8a-76ac3320742b",
   "metadata": {},
   "outputs": [],
   "source": [
    "# PSNR histogram"
   ]
  },
  {
   "cell_type": "code",
   "execution_count": null,
   "id": "06bfdb4c-8d4e-49d5-a4eb-d42b0e8aba9f",
   "metadata": {},
   "outputs": [],
   "source": [
    "plt.figure(figsize=(8,4))\n",
    "plt.hist(psnr_values, bins=50, color='skyblue')\n",
    "plt.title(\"PSNR Distribution on Test Set\")\n",
    "plt.xlabel(\"PSNR\")\n",
    "plt.ylabel(\"Count\")\n",
    "plt.show()"
   ]
  },
  {
   "cell_type": "code",
   "execution_count": null,
   "id": "c5986563-ad60-4ddd-96ab-19287b085c40",
   "metadata": {},
   "outputs": [],
   "source": [
    "# SSIM histogram"
   ]
  },
  {
   "cell_type": "code",
   "execution_count": null,
   "id": "1b23eec5-eb93-46e8-b6ad-b3eff0516b3b",
   "metadata": {},
   "outputs": [],
   "source": [
    "plt.figure(figsize=(8,4))\n",
    "plt.hist(ssim_values, bins=50, color='salmon')\n",
    "plt.title(\"SSIM Distribution on Test Set\")\n",
    "plt.xlabel(\"SSIM\")\n",
    "plt.ylabel(\"Count\")\n",
    "plt.show()"
   ]
  },
  {
   "cell_type": "code",
   "execution_count": null,
   "id": "79be8864-c0fa-4435-8054-4c93a6c4e859",
   "metadata": {},
   "outputs": [],
   "source": [
    "# Visualize Results"
   ]
  },
  {
   "cell_type": "code",
   "execution_count": null,
   "id": "aefd5306-b440-48ec-b649-51f7a63887fb",
   "metadata": {},
   "outputs": [],
   "source": [
    "n = 10\n",
    "plt.figure(figsize=(20,6))\n",
    "for i in range(n):\n",
    "    ax = plt.subplot(3,n,i+1)\n",
    "    plt.imshow(x_test_noisy[i])\n",
    "    plt.axis('off')\n",
    "    if i==0: plt.ylabel(\"Noisy\")\n",
    "    \n",
    "    ax = plt.subplot(3,n,i+1+n)\n",
    "    plt.imshow(preds[i])\n",
    "    plt.axis('off')\n",
    "    if i==0: plt.ylabel(\"Denoised\")\n",
    "    \n",
    "    ax = plt.subplot(3,n,i+1+2*n)\n",
    "    plt.imshow(x_test[i])\n",
    "    plt.axis('off')\n",
    "    if i==0: plt.ylabel(\"Original\")\n",
    "plt.savefig(\"results/denoised_examples.png\")\n",
    "plt.show()"
   ]
  }
 ],
 "metadata": {
  "kernelspec": {
   "display_name": "Python [conda env:base] *",
   "language": "python",
   "name": "conda-base-py"
  },
  "language_info": {
   "codemirror_mode": {
    "name": "ipython",
    "version": 3
   },
   "file_extension": ".py",
   "mimetype": "text/x-python",
   "name": "python",
   "nbconvert_exporter": "python",
   "pygments_lexer": "ipython3",
   "version": "3.12.7"
  }
 },
 "nbformat": 4,
 "nbformat_minor": 5
}
